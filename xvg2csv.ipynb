{
 "cells": [
  {
   "cell_type": "code",
   "execution_count": 1,
   "id": "189e2797",
   "metadata": {},
   "outputs": [],
   "source": [
    "import numpy as np\n",
    "import matplotlib.pyplot as plt\n",
    "import sys\n",
    "import pandas as pd\n",
    "import numpy as np\n",
    "import os"
   ]
  },
  {
   "cell_type": "code",
   "execution_count": 2,
   "id": "a9263d9d",
   "metadata": {},
   "outputs": [
    {
     "name": "stdout",
     "output_type": "stream",
     "text": [
      "请输入文件名：rmsd.xvg\n"
     ]
    }
   ],
   "source": [
    "path = os.getcwd()\n",
    "f_name = input(\"请输入文件名：\")\n",
    "fname = os.path.join(path,f_name)"
   ]
  },
  {
   "cell_type": "code",
   "execution_count": 50,
   "id": "18c94ab5",
   "metadata": {},
   "outputs": [],
   "source": [
    "with open(fname, \"r\") as f:\n",
    "    x, y = [], []\n",
    "    title, xaxis, yaxis = \"\",\"\",\"\"\n",
    "    lines = f.readlines()\n",
    "    for line in lines:\n",
    "        line=line.strip()\n",
    "        if line.startswith(\"#\"):\n",
    "            continue\n",
    "        if \"title\" in line.split():\n",
    "            title = line.split()[2]\n",
    "            title = title.split('\"')[1]\n",
    "        elif \"xaxis\" in line.split():\n",
    "            xaxis = line.split()[3]+\" \"+line.split()[4]\n",
    "            xaxis = xaxis.split('\"')[1]\n",
    "        elif \"yaxis\" in line.split():\n",
    "            yaxis = line.split()[3]+\" \"+line.split()[4]\n",
    "            yaxis = yaxis.split('\"')[1]\n",
    "        elif line.startswith(\"@\"):\n",
    "            continue\n",
    "        else:\n",
    "            x.append(line.split()[0])\n",
    "            y.append(line.split()[1])"
   ]
  },
  {
   "cell_type": "code",
   "execution_count": 51,
   "id": "c5691f4c",
   "metadata": {},
   "outputs": [],
   "source": [
    "df = pd.DataFrame(x, columns=[xaxis])"
   ]
  },
  {
   "cell_type": "code",
   "execution_count": 52,
   "id": "b33adf61",
   "metadata": {},
   "outputs": [],
   "source": [
    "df[yaxis]=y"
   ]
  },
  {
   "cell_type": "code",
   "execution_count": 53,
   "id": "520c243b",
   "metadata": {},
   "outputs": [],
   "source": [
    "df.to_csv(f\"{path}\\\\{title}.csv\",index=0)"
   ]
  },
  {
   "cell_type": "code",
   "execution_count": null,
   "id": "aa69fe41",
   "metadata": {},
   "outputs": [],
   "source": []
  }
 ],
 "metadata": {
  "kernelspec": {
   "display_name": "Python 3 (ipykernel)",
   "language": "python",
   "name": "python3"
  },
  "language_info": {
   "codemirror_mode": {
    "name": "ipython",
    "version": 3
   },
   "file_extension": ".py",
   "mimetype": "text/x-python",
   "name": "python",
   "nbconvert_exporter": "python",
   "pygments_lexer": "ipython3",
   "version": "3.7.12"
  }
 },
 "nbformat": 4,
 "nbformat_minor": 5
}
